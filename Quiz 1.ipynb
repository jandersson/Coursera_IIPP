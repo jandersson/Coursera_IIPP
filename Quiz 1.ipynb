{
 "metadata": {
  "name": "",
  "signature": "sha256:2288b59bc6572ae991d14c144e59afd5c3cfeddce394309322ae01e60503c44f"
 },
 "nbformat": 3,
 "nbformat_minor": 0,
 "worksheets": [
  {
   "cells": [
    {
     "cell_type": "code",
     "collapsed": false,
     "input": [
      "# Question 7\n",
      "def future_value(present_value, annual_rate, periods_per_year, years):\n",
      "    rate_per_period = annual_rate / periods_per_year\n",
      "    periods = periods_per_year * years\n",
      "    \n",
      "    # Put your code here.\n",
      "    return present_value * (1 + rate_per_period)**periods\n",
      "\n",
      "print(\"$1000 at 2% compounded daily for 3 years yields $\", future_value(1000, .02, 365, 3))\n",
      "assert round(future_value(500, .04, 10, 10), 9) == 745.317442824"
     ],
     "language": "python",
     "metadata": {},
     "outputs": [
      {
       "output_type": "stream",
       "stream": "stdout",
       "text": [
        "$1000 at 2% compounded daily for 3 years yields $ 1061.8348011259045\n"
       ]
      }
     ],
     "prompt_number": 11
    },
    {
     "cell_type": "code",
     "collapsed": false,
     "input": [
      "# Question 8\n",
      "# There are several ways to calculate the area of a regular polygon. Given the number of sides, n, and the \n",
      "# length of each side, s, the polygon's area is \u00bc n s2 / tan(\u03c0/n).\n",
      "# For example, a regular polygon with 5 sides, each of length 7 inches, has area 84.3033926289 square inches.\n",
      "# Write a function that calculates the area of a regular polygon, given the number of sides and length of each side.\n",
      "# Submit the area of a regular polygon with 7 sides each of length 3 inches. \n",
      "# Enter a number (and not the units) with at least four digits of precision after the decimal point.\n",
      "\n",
      "# Note that the use of inches as the unit of measurement in these examples is arbitrary. \n",
      "# Python only keeps track of the numerical values, not the units.\n",
      "\n",
      "import math\n",
      "\n",
      "def polygon_area(nsides, side_length):\n",
      "    return (0.25 * nsides * side_length**2) / math.tan(math.pi/nsides)\n",
      "\n",
      "assert round(polygon_area(5, 7), 10) == 84.3033926289\n",
      "polygon_area(7, 3)"
     ],
     "language": "python",
     "metadata": {},
     "outputs": [
      {
       "metadata": {},
       "output_type": "pyout",
       "prompt_number": 17,
       "text": [
        "32.705211996014306"
       ]
      }
     ],
     "prompt_number": 17
    },
    {
     "cell_type": "code",
     "collapsed": false,
     "input": [
      "# Question 10\n",
      "# The following code has a number of syntactic errors in it. \n",
      "# The intended math calculations are correct, so the only errors are syntactic. \n",
      "# Fix the syntactic errors.\n",
      "\n",
      "# Once the code has been fully corrected, it should print out two numbers. \n",
      "# The first should be 1.09888451159. Submit the second number printed in CodeSkulptor. \n",
      "# Provide at least four digits of precision after the decimal point.\n",
      "import math\n",
      "def project_to_distance(point_x, point_y, distance):\n",
      "    dist_to_origin = math.sqrt(point_x ** 2 + point_y ** 2)    \n",
      "    scale = distance / dist_to_origin\n",
      "    print(point_x * scale, point_y * scale)\n",
      "    \n",
      "project_to_distance(2, 7, 4)"
     ],
     "language": "python",
     "metadata": {},
     "outputs": [
      {
       "output_type": "stream",
       "stream": "stdout",
       "text": [
        "1.0988845115895123 3.846095790563293\n"
       ]
      }
     ],
     "prompt_number": 22
    },
    {
     "cell_type": "code",
     "collapsed": false,
     "input": [],
     "language": "python",
     "metadata": {},
     "outputs": []
    }
   ],
   "metadata": {}
  }
 ]
}